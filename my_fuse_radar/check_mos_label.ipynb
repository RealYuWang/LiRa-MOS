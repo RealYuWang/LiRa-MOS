{
 "cells": [
  {
   "cell_type": "code",
   "id": "initial_id",
   "metadata": {
    "collapsed": true,
    "ExecuteTime": {
     "end_time": "2025-03-04T07:50:54.387718Z",
     "start_time": "2025-03-04T07:50:54.031329Z"
    }
   },
   "source": [
    "from vod.configuration import KittiLocations\n",
    "from vod.frame import FrameTransformMatrix, transform_pcl, FrameDataLoader\n",
    "import numpy as np\n",
    "import k3d\n",
    "from my_fuse_radar.utils import read_kitti_label_file, plot_moving_objs_bbox\n",
    "from vod.visualization import get_radar_velocity_vectors\n",
    "kitti_locations = KittiLocations(root_dir='/datasets/vod')"
   ],
   "outputs": [],
   "execution_count": 1
  },
  {
   "metadata": {
    "ExecuteTime": {
     "end_time": "2025-03-04T07:51:16.909918Z",
     "start_time": "2025-03-04T07:51:16.890923Z"
    }
   },
   "cell_type": "code",
   "source": [
    "frame_str = '00544'\n",
    "frame_data = FrameDataLoader(kitti_locations=kitti_locations, frame_number=frame_str)\n",
    "transforms = FrameTransformMatrix(frame_data)\n",
    "_, moving_objs = read_kitti_label_file(frame_data.raw_labels)\n",
    "lidar_points_cf = transform_pcl(frame_data.lidar_data, transforms.t_camera_lidar)[:,:3]\n",
    "radar_points_cf = transform_pcl(frame_data.radar_data, transforms.t_camera_radar)[:,:3] # (N, 3)\n",
    "\n",
    "label_mos = np.fromfile('/datasets/vod/my_radar_5frames/training/label_mos/00544.label', dtype=np.uint8)\n",
    "print(len(label_mos))\n",
    "print(label_mos)\n",
    "moving_points = np.array(radar_points_cf[label_mos == 1])\n",
    "static_points = np.array(radar_points_cf[label_mos == 0])\n",
    "\n",
    "print(f'Number of radar points: {radar_points_cf.shape[0]}')\n",
    "print(f'Number of moving points: {moving_points.shape[0]}')\n",
    "print(f'Number of static points: {static_points.shape[0]}')\n",
    "\n",
    "radial_velocity = frame_data.radar_data[:, 5]\n",
    "points_velo_vectors = get_radar_velocity_vectors(radar_points_cf, radial_velocity)"
   ],
   "id": "8391ef1fa7238492",
   "outputs": [
    {
     "name": "stdout",
     "output_type": "stream",
     "text": [
      "326\n",
      "[0 0 0 0 0 0 0 0 0 0 0 0 0 0 0 0 0 0 0 0 0 0 0 0 0 0 0 0 0 0 0 0 0 0 0 0 0\n",
      " 0 0 0 0 0 0 0 0 0 0 0 0 0 0 0 0 0 0 0 0 0 0 0 0 0 1 0 0 0 0 0 0 0 0 0 0 0\n",
      " 0 0 0 0 0 1 1 0 0 1 0 0 0 1 0 1 1 0 0 0 1 1 0 1 1 0 0 1 0 0 0 0 0 1 0 0 0\n",
      " 0 0 0 0 0 0 0 0 0 0 0 0 0 0 0 0 0 0 0 0 0 0 0 0 0 1 1 1 0 0 0 0 1 1 0 0 1\n",
      " 0 1 1 0 1 0 0 1 1 1 1 1 1 0 1 1 0 0 0 0 0 0 0 1 1 0 0 0 0 0 0 0 0 0 0 0 0\n",
      " 0 0 0 0 0 0 0 0 0 0 0 0 0 0 0 0 0 0 0 0 0 0 0 0 0 0 0 0 0 0 0 0 0 0 0 0 0\n",
      " 0 0 0 0 0 0 0 0 0 0 0 0 0 0 0 0 0 0 0 0 0 0 0 0 0 0 0 0 0 0 0 0 0 0 0 0 0\n",
      " 0 0 0 0 0 0 0 0 0 0 0 0 0 0 0 0 0 0 0 0 0 0 0 0 0 0 0 0 0 0 0 0 0 0 0 0 0\n",
      " 0 0 0 0 0 0 0 0 0 0 0 0 0 0 0 0 0 0 0 0 0 0 0 0 0 0 0 0 0 0]\n",
      "Number of radar points: 326\n",
      "Number of moving points: 32\n",
      "Number of static points: 294\n"
     ]
    }
   ],
   "execution_count": 2
  },
  {
   "metadata": {
    "ExecuteTime": {
     "end_time": "2025-03-04T07:51:36.018549Z",
     "start_time": "2025-03-04T07:51:35.952087Z"
    }
   },
   "cell_type": "code",
   "source": [
    "plot = k3d.plot(camera_auto_fit=False, axes_helper=True, grid_visible=False)\n",
    "plot += k3d.points(np.array([0,0,0]), point_size=0.5, color=0x00FF00) # 原点\n",
    "plot += k3d.points(lidar_points_cf, point_size=0.05, color=0x000000)\n",
    "plot += k3d.points(radar_points_cf, point_size=0.05, color=0xFF0F00)\n",
    "plot_moving_objs_bbox(plot, moving_objs, transforms.t_lidar_camera, transforms.t_camera_lidar)\n",
    "\n",
    "plot += k3d.points(moving_points, point_size=0.3, color=0xFF0000)\n",
    "plot += k3d.points(static_points, point_size=0.3, color=0x0000FF)\n",
    "plot += k3d.vectors(origins=radar_points_cf, vectors=points_velo_vectors, color=0xFF0000)\n",
    "plot.display()"
   ],
   "id": "e11de5c7c5c2d3e4",
   "outputs": [
    {
     "name": "stderr",
     "output_type": "stream",
     "text": [
      "/home/yu/miniconda3/envs/openpcdet/lib/python3.8/site-packages/traittypes/traittypes.py:97: UserWarning: Given trait value dtype \"int64\" does not match required type \"float32\". A coerced copy has been created.\n",
      "  warnings.warn(\n",
      "/home/yu/miniconda3/envs/openpcdet/lib/python3.8/site-packages/traittypes/traittypes.py:97: UserWarning: Given trait value dtype \"float64\" does not match required type \"float32\". A coerced copy has been created.\n",
      "  warnings.warn(\n"
     ]
    },
    {
     "data": {
      "text/plain": [
       "Output()"
      ],
      "application/vnd.jupyter.widget-view+json": {
       "version_major": 2,
       "version_minor": 0,
       "model_id": "87c05317ade047748046f78d72c11cb0"
      }
     },
     "metadata": {},
     "output_type": "display_data"
    }
   ],
   "execution_count": 3
  }
 ],
 "metadata": {
  "kernelspec": {
   "display_name": "Python 3",
   "language": "python",
   "name": "python3"
  },
  "language_info": {
   "codemirror_mode": {
    "name": "ipython",
    "version": 2
   },
   "file_extension": ".py",
   "mimetype": "text/x-python",
   "name": "python",
   "nbconvert_exporter": "python",
   "pygments_lexer": "ipython2",
   "version": "2.7.6"
  }
 },
 "nbformat": 4,
 "nbformat_minor": 5
}
